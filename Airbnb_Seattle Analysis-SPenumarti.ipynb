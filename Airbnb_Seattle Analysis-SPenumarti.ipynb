{
 "cells": [
  {
   "cell_type": "code",
   "execution_count": 2,
   "metadata": {},
   "outputs": [],
   "source": [
    "#Importing required libraries for the project\n",
    "import numpy as np\n",
    "import pandas as pd\n",
    "import sys\n",
    "#reload(sys)\n",
    "#sys.setdefaultencoding(\"utf-8\")"
   ]
  },
  {
   "cell_type": "code",
   "execution_count": 3,
   "metadata": {},
   "outputs": [],
   "source": [
    "#Reading the data sets and displaying the top rows of it\n",
    "listings = pd.read_csv(\"listings.csv\")\n",
    "listings.head()\n",
    "reviews = pd.read_csv(\"reviews.csv\")\n",
    "\n",
    "calendar = pd.read_csv(\"calendar.csv\")\n",
    "\n",
    " \n",
    "#Clearing o/p of a cell\n",
    "#from IPython.display import clear_output\n"
   ]
  },
  {
   "cell_type": "code",
   "execution_count": 4,
   "metadata": {
    "scrolled": true
   },
   "outputs": [],
   "source": [
    "#Cleaning the data sets\n",
    "#Removing columns which have more than 20% of missing values:\n",
    "def del_miss_column(data, threshold):\n",
    "    miss_columns = []\n",
    "    miss_value = []\n",
    "    for i in list(data):\n",
    "        if ((data[i].isnull().sum() / len(data[i])) > threshold):\n",
    "            miss_columns.append(i)\n",
    "            miss_value.append(df[i].isnull().sum())\n",
    "        \n",
    "        return miss_columns, miss_value\n",
    "miss_col, miss_value = del_miss_column(listings, 0.2)"
   ]
  },
  {
   "cell_type": "code",
   "execution_count": 10,
   "metadata": {},
   "outputs": [],
   "source": [
    "for i in zip(miss_col, miss_value):\n",
    "    \n",
    "    print(i)\n",
    "    print('Hello World')"
   ]
  },
  {
   "cell_type": "code",
   "execution_count": null,
   "metadata": {},
   "outputs": [],
   "source": []
  }
 ],
 "metadata": {
  "kernelspec": {
   "display_name": "Python 3",
   "language": "python",
   "name": "python3"
  },
  "language_info": {
   "codemirror_mode": {
    "name": "ipython",
    "version": 3
   },
   "file_extension": ".py",
   "mimetype": "text/x-python",
   "name": "python",
   "nbconvert_exporter": "python",
   "pygments_lexer": "ipython3",
   "version": "3.8.4"
  }
 },
 "nbformat": 4,
 "nbformat_minor": 4
}
